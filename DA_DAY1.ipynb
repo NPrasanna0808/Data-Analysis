{
  "nbformat": 4,
  "nbformat_minor": 0,
  "metadata": {
    "colab": {
      "provenance": []
    },
    "kernelspec": {
      "name": "python3",
      "display_name": "Python 3"
    },
    "language_info": {
      "name": "python"
    }
  },
  "cells": [
    {
      "cell_type": "code",
      "execution_count": null,
      "metadata": {
        "colab": {
          "base_uri": "https://localhost:8080/"
        },
        "id": "VDEVYArPrDxL",
        "outputId": "85b11a30-534a-41f9-f37a-341a9693e1c6"
      },
      "outputs": [
        {
          "output_type": "stream",
          "name": "stdout",
          "text": [
            "I am 5 years old\n"
          ]
        }
      ],
      "source": [
        "#variable and print\n",
        "a=5\n",
        "print(\"I am\",a,\"years old\")"
      ]
    },
    {
      "cell_type": "markdown",
      "source": [
        "operators\n"
      ],
      "metadata": {
        "id": "nWSbZTTxruPV"
      }
    },
    {
      "cell_type": "code",
      "source": [
        "#arithmetic\n",
        "a=5\n",
        "b=25\n",
        "print(a+b)"
      ],
      "metadata": {
        "colab": {
          "base_uri": "https://localhost:8080/"
        },
        "id": "qfH1rtSJrx9m",
        "outputId": "6d0a8671-b650-45f9-f99e-0d58bcdb91e7"
      },
      "execution_count": null,
      "outputs": [
        {
          "output_type": "stream",
          "name": "stdout",
          "text": [
            "30\n"
          ]
        }
      ]
    },
    {
      "cell_type": "code",
      "source": [
        "#power\n",
        "print(2**5)"
      ],
      "metadata": {
        "colab": {
          "base_uri": "https://localhost:8080/"
        },
        "id": "G6AY4mEgr5jl",
        "outputId": "c0f6578b-7f4b-4b27-de69-447854d488e3"
      },
      "execution_count": null,
      "outputs": [
        {
          "output_type": "stream",
          "name": "stdout",
          "text": [
            "32\n"
          ]
        }
      ]
    },
    {
      "cell_type": "code",
      "source": [
        "#floor div\n",
        "print(25//2)"
      ],
      "metadata": {
        "colab": {
          "base_uri": "https://localhost:8080/"
        },
        "id": "uUdKz1p1sg7o",
        "outputId": "e8991c34-cb6b-4e7f-dc45-d95f3d264cf3"
      },
      "execution_count": null,
      "outputs": [
        {
          "output_type": "stream",
          "name": "stdout",
          "text": [
            "12\n"
          ]
        }
      ]
    },
    {
      "cell_type": "code",
      "source": [
        "#relational\n",
        "a=6\n",
        "b=6\n",
        "print(a==b)\n",
        "print(a>b)\n",
        "print(a<b)\n",
        "print(a!=b)\n",
        "print(a>=b)\n",
        "print(a<=b)"
      ],
      "metadata": {
        "colab": {
          "base_uri": "https://localhost:8080/"
        },
        "id": "6CR18y8isrA3",
        "outputId": "a19e985c-7068-4c20-ca4d-1a2baecbe73a"
      },
      "execution_count": null,
      "outputs": [
        {
          "output_type": "stream",
          "name": "stdout",
          "text": [
            "True\n",
            "False\n",
            "False\n",
            "False\n",
            "True\n",
            "True\n"
          ]
        }
      ]
    },
    {
      "cell_type": "code",
      "source": [
        "#logical\n",
        "a=9\n",
        "b=9\n",
        "print((a>b) and (a<b))\n",
        "print((a>b) or (a<b))"
      ],
      "metadata": {
        "colab": {
          "base_uri": "https://localhost:8080/"
        },
        "id": "O6XXXbPotcuN",
        "outputId": "9914da29-1440-4b9c-df7c-b19eac7a4f85"
      },
      "execution_count": null,
      "outputs": [
        {
          "output_type": "stream",
          "name": "stdout",
          "text": [
            "False\n",
            "False\n"
          ]
        }
      ]
    },
    {
      "cell_type": "code",
      "source": [
        "#membership\n",
        "a=\"pirate\"\n",
        "print(\"a\" not in a)\n",
        "print(\"a\" in a)"
      ],
      "metadata": {
        "colab": {
          "base_uri": "https://localhost:8080/"
        },
        "id": "e7sgPzQxuCYb",
        "outputId": "8c8d1f37-8121-4ea8-e270-f34112515883"
      },
      "execution_count": null,
      "outputs": [
        {
          "output_type": "stream",
          "name": "stdout",
          "text": [
            "False\n",
            "True\n"
          ]
        }
      ]
    },
    {
      "cell_type": "markdown",
      "source": [
        "control flow"
      ],
      "metadata": {
        "id": "YM4pKC3nu9Wf"
      }
    },
    {
      "cell_type": "code",
      "source": [
        "#conditional-if\n",
        "#writ a program to get a number from the user and check whether it is positive or negative\n",
        "a=(input(\"enter a number:\"))\n",
        "print(type(a))\n"
      ],
      "metadata": {
        "colab": {
          "base_uri": "https://localhost:8080/"
        },
        "id": "fKaYvxr0u_PZ",
        "outputId": "2abf8aed-2d49-43ea-960c-ba10095ccf20"
      },
      "execution_count": null,
      "outputs": [
        {
          "output_type": "stream",
          "name": "stdout",
          "text": [
            "enter a number:45\n",
            "<class 'str'>\n"
          ]
        }
      ]
    },
    {
      "cell_type": "code",
      "source": [
        "#conditional-if\n",
        "#writ a program to get a number from the user and check whether it is positive or negative\n",
        "a=int(input(\"enter a number:\"))\n",
        "if(a>0):\n",
        "  print(\"a is positive\")\n",
        "else:\n",
        "  print(\"a is negative\")\n"
      ],
      "metadata": {
        "colab": {
          "base_uri": "https://localhost:8080/"
        },
        "id": "bUKSWgfHwgN4",
        "outputId": "8319ff00-334a-4a2e-8ad7-207969e269f0"
      },
      "execution_count": null,
      "outputs": [
        {
          "output_type": "stream",
          "name": "stdout",
          "text": [
            "enter a number:38\n",
            "a is positive\n"
          ]
        }
      ]
    },
    {
      "cell_type": "code",
      "source": [
        "#conditional-if\n",
        "#writ a program to get a number from the user and check whether it is positive or negative\n",
        "a=int(input(\"enter a number:\"))\n",
        "if(a>0):\n",
        "  print(\"a is positive\")\n",
        "elif(a==0):\n",
        "  print(\"zero\")\n",
        "else:\n",
        "  print(\"a is negative\")\n"
      ],
      "metadata": {
        "colab": {
          "base_uri": "https://localhost:8080/"
        },
        "id": "sude3V6qyILm",
        "outputId": "51e9fc95-0fc8-4875-9882-5500e6421085"
      },
      "execution_count": null,
      "outputs": [
        {
          "output_type": "stream",
          "name": "stdout",
          "text": [
            "enter a number:0\n",
            "zero\n"
          ]
        }
      ]
    },
    {
      "cell_type": "code",
      "source": [
        "#for\n",
        "a=6\n",
        "for i in range(1,11):\n",
        "  print(a,\"*\",i,\"=\",a*i)"
      ],
      "metadata": {
        "colab": {
          "base_uri": "https://localhost:8080/"
        },
        "id": "K_k8s0Dl0m-g",
        "outputId": "ad2d69d3-4019-45e9-89d4-e11a73b87feb"
      },
      "execution_count": null,
      "outputs": [
        {
          "output_type": "stream",
          "name": "stdout",
          "text": [
            "6 * 1 = 6\n",
            "6 * 2 = 12\n",
            "6 * 3 = 18\n",
            "6 * 4 = 24\n",
            "6 * 5 = 30\n",
            "6 * 6 = 36\n",
            "6 * 7 = 42\n",
            "6 * 8 = 48\n",
            "6 * 9 = 54\n",
            "6 * 10 = 60\n"
          ]
        }
      ]
    },
    {
      "cell_type": "code",
      "source": [
        "#typecasting:\n",
        "a=25.5 #float\n",
        "b=6 #int\n",
        "print(a*b) #interpreter automatically taken the output as float\n",
        "#implict typecasting"
      ],
      "metadata": {
        "colab": {
          "base_uri": "https://localhost:8080/"
        },
        "id": "nI9APLGb2YNH",
        "outputId": "a01644e6-b9eb-4ffc-9de2-af2205f14549"
      },
      "execution_count": null,
      "outputs": [
        {
          "output_type": "stream",
          "name": "stdout",
          "text": [
            "153.0\n"
          ]
        }
      ]
    },
    {
      "cell_type": "code",
      "source": [
        "#typecasting:\n",
        "a=25.5 #float\n",
        "b=6 #int\n",
        "print(int(a*b)) #user\n",
        "#explicit typecasting"
      ],
      "metadata": {
        "colab": {
          "base_uri": "https://localhost:8080/"
        },
        "id": "qTknjHQt3SCM",
        "outputId": "23b56690-9d53-47d9-bc58-bb883627cfa8"
      },
      "execution_count": null,
      "outputs": [
        {
          "output_type": "stream",
          "name": "stdout",
          "text": [
            "153\n"
          ]
        }
      ]
    },
    {
      "cell_type": "code",
      "source": [
        "a=\"45\"\n",
        "a=int(a)\n",
        "print(type(a))"
      ],
      "metadata": {
        "colab": {
          "base_uri": "https://localhost:8080/"
        },
        "id": "g9BiovjD4IZe",
        "outputId": "f52e9aac-1e5f-4158-89d7-ea135aa2fb53"
      },
      "execution_count": null,
      "outputs": [
        {
          "output_type": "stream",
          "name": "stdout",
          "text": [
            "<class 'int'>\n"
          ]
        }
      ]
    },
    {
      "cell_type": "code",
      "source": [
        "a=\"45\"\n",
        "int(a)\n",
        "print(type(a))"
      ],
      "metadata": {
        "colab": {
          "base_uri": "https://localhost:8080/"
        },
        "id": "IPUCzw8Y4QxD",
        "outputId": "dd64087e-c729-4b87-e253-4fafa519c9ca"
      },
      "execution_count": null,
      "outputs": [
        {
          "output_type": "stream",
          "name": "stdout",
          "text": [
            "<class 'str'>\n"
          ]
        }
      ]
    },
    {
      "cell_type": "markdown",
      "source": [
        "Data slicing"
      ],
      "metadata": {
        "id": "w4ZZut0s4e0B"
      }
    },
    {
      "cell_type": "code",
      "source": [
        "a=\"python is easy\"\n",
        "print(a[0:6])#start:stop:step"
      ],
      "metadata": {
        "colab": {
          "base_uri": "https://localhost:8080/"
        },
        "id": "HCU-ZM9R4gpO",
        "outputId": "511741ed-5de5-4f06-9c55-023cb9589a83"
      },
      "execution_count": null,
      "outputs": [
        {
          "output_type": "stream",
          "name": "stdout",
          "text": [
            "python\n"
          ]
        }
      ]
    },
    {
      "cell_type": "code",
      "source": [
        "a=\"python is easy\"\n",
        "print(a[::-1])"
      ],
      "metadata": {
        "colab": {
          "base_uri": "https://localhost:8080/"
        },
        "id": "sbjpRjyW4xIo",
        "outputId": "43a5278a-543c-4f87-e93a-2cdc00ddf509"
      },
      "execution_count": null,
      "outputs": [
        {
          "output_type": "stream",
          "name": "stdout",
          "text": [
            "ysae si nohtyp\n"
          ]
        }
      ]
    },
    {
      "cell_type": "code",
      "source": [
        "a=\"python is easy\"\n",
        "print(a[::2])"
      ],
      "metadata": {
        "colab": {
          "base_uri": "https://localhost:8080/"
        },
        "id": "VR0HIRf35hiC",
        "outputId": "f46cb0f9-54c0-4f1f-edef-71f432e4f872"
      },
      "execution_count": null,
      "outputs": [
        {
          "output_type": "stream",
          "name": "stdout",
          "text": [
            "pto ses\n"
          ]
        }
      ]
    },
    {
      "cell_type": "code",
      "source": [
        "#while loop\n",
        "a=int(input(\"enter a number:\"))\n",
        "i=1\n",
        "while(i<=10):\n",
        "  n=a*i\n",
        "  print(n)\n",
        "  i=i+1\n",
        "\n"
      ],
      "metadata": {
        "colab": {
          "base_uri": "https://localhost:8080/"
        },
        "id": "xU6jZTFO53ze",
        "outputId": "aef7a0eb-aeda-43c5-b70d-f7c731aa7a61"
      },
      "execution_count": null,
      "outputs": [
        {
          "output_type": "stream",
          "name": "stdout",
          "text": [
            "enter a number:8\n",
            "8\n",
            "16\n",
            "24\n",
            "32\n",
            "40\n",
            "48\n",
            "56\n",
            "64\n",
            "72\n",
            "80\n"
          ]
        }
      ]
    },
    {
      "cell_type": "markdown",
      "source": [
        "Collections:\n",
        "list:\n",
        "- List is a collection of elements\n",
        "-Hetrogeneous\n",
        "-Mutable(modifiable)"
      ],
      "metadata": {
        "id": "8cH6IBsX8Qqi"
      }
    },
    {
      "cell_type": "code",
      "source": [
        "#lists\n",
        "list=[1,2,3,4,5,6]\n",
        "print(list)\n"
      ],
      "metadata": {
        "colab": {
          "base_uri": "https://localhost:8080/"
        },
        "id": "IT-KrsDu8ShE",
        "outputId": "36581e99-30fd-4a0f-ef1f-35850b6f3bec"
      },
      "execution_count": null,
      "outputs": [
        {
          "output_type": "stream",
          "name": "stdout",
          "text": [
            "[1, 2, 3, 4, 5, 6]\n"
          ]
        }
      ]
    },
    {
      "cell_type": "code",
      "source": [
        "#lists\n",
        "l1=[38,\"happy\",1.88,45]\n",
        "print(l1)"
      ],
      "metadata": {
        "colab": {
          "base_uri": "https://localhost:8080/"
        },
        "id": "lMaMLd4L8kxI",
        "outputId": "bbea6b6d-586d-47d0-bb69-47638c383052"
      },
      "execution_count": null,
      "outputs": [
        {
          "output_type": "stream",
          "name": "stdout",
          "text": [
            "[38, 'happy', 1.88, 45]\n"
          ]
        }
      ]
    },
    {
      "cell_type": "code",
      "source": [
        "#lists\n",
        "for i in l1:\n",
        "  print(i)"
      ],
      "metadata": {
        "colab": {
          "base_uri": "https://localhost:8080/"
        },
        "id": "YpZ5CCRT-RPC",
        "outputId": "0a0e32ce-2704-4e57-ced0-fc0d34ff8f0c"
      },
      "execution_count": null,
      "outputs": [
        {
          "output_type": "stream",
          "name": "stdout",
          "text": [
            "38\n",
            "happy\n",
            "1.88\n",
            "45\n"
          ]
        }
      ]
    },
    {
      "cell_type": "code",
      "source": [
        "#lists appending\n",
        "a=[1,2,3]\n",
        "b=\"hi\"\n",
        "a.append(b)\n",
        "print(a)"
      ],
      "metadata": {
        "colab": {
          "base_uri": "https://localhost:8080/"
        },
        "id": "Ob1Obghp_mmV",
        "outputId": "ce1d5085-004a-4430-946f-871deb285e36"
      },
      "execution_count": null,
      "outputs": [
        {
          "output_type": "stream",
          "name": "stdout",
          "text": [
            "[1, 2, 3, 'hi']\n"
          ]
        }
      ]
    },
    {
      "cell_type": "code",
      "source": [
        "#lists inserting\n",
        "c=[1,\"hi\",10.9]\n",
        "c.insert(2,\"hello\")#syntax:list_name.insert(index number,word)\n",
        "print(c)\n",
        "\n"
      ],
      "metadata": {
        "colab": {
          "base_uri": "https://localhost:8080/"
        },
        "id": "bF_6xbTIAkCX",
        "outputId": "26015124-5a40-46a4-c935-c9298a32e6c8"
      },
      "execution_count": null,
      "outputs": [
        {
          "output_type": "stream",
          "name": "stdout",
          "text": [
            "[1, 'hi', 'hello', 10.9]\n"
          ]
        }
      ]
    },
    {
      "cell_type": "code",
      "source": [
        "#lists extend\n",
        "l3=[4,5,6]\n",
        "l4=[7,8,9]\n",
        "l3.extend(l4)\n",
        "print(l3)"
      ],
      "metadata": {
        "colab": {
          "base_uri": "https://localhost:8080/"
        },
        "id": "UkGI7Vb7BYt2",
        "outputId": "75ce0f63-56be-4d9d-9763-f16d2be4f7da"
      },
      "execution_count": null,
      "outputs": [
        {
          "output_type": "stream",
          "name": "stdout",
          "text": [
            "[4, 5, 6, 7, 8, 9]\n"
          ]
        }
      ]
    },
    {
      "cell_type": "code",
      "source": [
        "#lists add\n",
        "l3=l3+l4\n",
        "print(l3)"
      ],
      "metadata": {
        "colab": {
          "base_uri": "https://localhost:8080/"
        },
        "id": "auEOEcl0CbbJ",
        "outputId": "ba903518-bff4-4247-8d5b-33f7c73e7df3"
      },
      "execution_count": null,
      "outputs": [
        {
          "output_type": "stream",
          "name": "stdout",
          "text": [
            "[4, 5, 6, 7, 8, 9, 7, 8, 9]\n"
          ]
        }
      ]
    },
    {
      "cell_type": "code",
      "source": [
        "#lists pop\n",
        "l5=[1,2,3,4,5,6]\n",
        "l5.pop(3)#list_name.clear() or list_name.pop()\n",
        "print(l5)\n",
        "#lists remove\n",
        "l5.remove(1)\n",
        "print(l5)#list_name.remove(element present in list)"
      ],
      "metadata": {
        "colab": {
          "base_uri": "https://localhost:8080/"
        },
        "id": "Fq59MxA-Cnaa",
        "outputId": "e1c4da7d-c8c0-470d-9fc4-5d370bdd90fc"
      },
      "execution_count": null,
      "outputs": [
        {
          "output_type": "stream",
          "name": "stdout",
          "text": [
            "[1, 2, 3, 5, 6]\n",
            "[2, 3, 5, 6]\n"
          ]
        }
      ]
    },
    {
      "cell_type": "code",
      "source": [
        "#lists max only works for numbers\n",
        "l6=[1,2,38,40]\n",
        "#syntax: max(list_name)\n",
        "print(max(l6))\n",
        "print(min(l6))\n"
      ],
      "metadata": {
        "colab": {
          "base_uri": "https://localhost:8080/"
        },
        "id": "CfJQNBMxDrMI",
        "outputId": "bf978175-165b-4907-9187-1155765d7ed2"
      },
      "execution_count": null,
      "outputs": [
        {
          "output_type": "stream",
          "name": "stdout",
          "text": [
            "40\n",
            "1\n"
          ]
        }
      ]
    },
    {
      "cell_type": "markdown",
      "source": [
        "List comprehensions\n",
        "\n",
        "*   iterates\n",
        "*   applies some function\n",
        "*   conditions\n",
        "*   output:list\n",
        "\n",
        "\n",
        "\n",
        "\n",
        "\n"
      ],
      "metadata": {
        "id": "9dAhxxUpE0Zv"
      }
    },
    {
      "cell_type": "code",
      "source": [
        "l8=[45,67,89,90]\n",
        "l9=[i**2 for i in l8]#[output iterate condition]\n",
        "print(l9)"
      ],
      "metadata": {
        "colab": {
          "base_uri": "https://localhost:8080/"
        },
        "id": "GMTwvALQFB0f",
        "outputId": "9cd33968-3fe5-4e80-d54c-c3b18a6aca35"
      },
      "execution_count": null,
      "outputs": [
        {
          "output_type": "stream",
          "name": "stdout",
          "text": [
            "[2025, 4489, 7921, 8100]\n"
          ]
        }
      ]
    },
    {
      "cell_type": "code",
      "source": [
        "l8=[45,67,89,90]\n",
        "l9=[i**2 for i in l8 if i>50]#[output iterate condition]\n",
        "print(l9)"
      ],
      "metadata": {
        "colab": {
          "base_uri": "https://localhost:8080/"
        },
        "id": "hxEN-A1dGMjX",
        "outputId": "ae5663cc-1bc4-40ef-db9b-24439753db93"
      },
      "execution_count": null,
      "outputs": [
        {
          "output_type": "stream",
          "name": "stdout",
          "text": [
            "[4489, 7921, 8100]\n"
          ]
        }
      ]
    },
    {
      "cell_type": "code",
      "source": [
        "#The salaries of 5 employees in a company is taken as a list.The tax is 10%, if the salary is less than or equal to 50,000\n",
        "#or it is 15%\n",
        "#Create a new list with tax amounts\n",
        "#[67000,45000,89000,34000,50000]\n",
        "#list_name=[(body of if) (condition) else (body of else) iterate]\n",
        "sal=[67000,45000,89000,34000,50000]\n",
        "tax=[]\n",
        "for i in sal:\n",
        "  if i<=50000:\n",
        "    t=i*0.1\n",
        "    tax.append(t)\n",
        "  else:\n",
        "    t=i*0.15\n",
        "    tax.append(t)\n",
        "print(tax)\n"
      ],
      "metadata": {
        "colab": {
          "base_uri": "https://localhost:8080/"
        },
        "id": "MwOFX7yuG9Cm",
        "outputId": "60643259-9663-437d-fe38-a39b15dfa05e"
      },
      "execution_count": null,
      "outputs": [
        {
          "output_type": "stream",
          "name": "stdout",
          "text": [
            "[10050.0, 4500.0, 13350.0, 3400.0, 5000.0]\n"
          ]
        }
      ]
    },
    {
      "cell_type": "code",
      "source": [
        "#The salaries of 5 employees in a company is taken as a list.The tax is 10%, if the salary is less than or equal to 50,000\n",
        "#or it is 15%\n",
        "#Create a new list with tax amounts\n",
        "#[67000,45000,89000,34000,50000]\n",
        "#list_name=[(body of if) (condition) else (body of else) iterate]\n",
        "sal=[67000,45000,89000,34000,50000]\n",
        "tax=[i*0.1 if i<=50000 else i*0.15 for i in sal]\n",
        "print(tax)"
      ],
      "metadata": {
        "colab": {
          "base_uri": "https://localhost:8080/"
        },
        "id": "PX4Al4SsJVtp",
        "outputId": "244c80fe-f2ad-48a7-c793-d546d87b4985"
      },
      "execution_count": null,
      "outputs": [
        {
          "output_type": "stream",
          "name": "stdout",
          "text": [
            "[10050.0, 4500.0, 13350.0, 3400.0, 5000.0]\n"
          ]
        }
      ]
    },
    {
      "cell_type": "code",
      "source": [],
      "metadata": {
        "id": "O6ozl1u_KP-g"
      },
      "execution_count": null,
      "outputs": []
    }
  ]
}